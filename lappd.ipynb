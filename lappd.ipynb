{
 "cells": [
  {
   "cell_type": "code",
   "execution_count": null,
   "id": "4c81a6ff",
   "metadata": {},
   "outputs": [],
   "source": [
    "import glob \n",
    "import uproot\n",
    "import awkward as ak \n",
    "import matplotlib.pyplot as plt\n",
    "import numpy as np\n",
    "from tqdm import tqdm\n",
    "\n",
    "\n",
    "def get_time_residuals(filelist,threshold=60):\n",
    "    # Things we really care about\n",
    "    all_tres = []\n",
    "    all_amps = []\n",
    "    # For debugging tres\n",
    "    all_raw = []\n",
    "    all_trigs = []\n",
    "\n",
    "    for file in tqdm(filelist):\n",
    "        n_tup = uproot.open(file)\n",
    "        meta = n_tup[\"meta;1\"]\n",
    "        # print(meta.keys())\n",
    "\n",
    "        meta_info = meta.arrays(meta.keys(),library = \"ak\")\n",
    "        # print(meta_info['const_frac_threshold'])\n",
    "        output = n_tup[\"output\"]\n",
    "        # print(output.keys())\n",
    "        event_info = output.arrays(output.keys(),library = \"ak\")\n",
    "\n",
    "        lcns = event_info['lcns']\n",
    "        waveforms = event_info['waveforms']\n",
    "        # print(lcns[0])\n",
    "        # print(waveforms[0])\n",
    "\n",
    "        n=100\n",
    "\n",
    "\n",
    "        tres = []\n",
    "        raw = []\n",
    "        trigs = []\n",
    "        amps = []\n",
    "\n",
    "        for i in range(len(waveforms[:n])):\n",
    "            evtgroup0 = []\n",
    "            evtgroup1 = []\n",
    "            evtgroup2 = []\n",
    "            evtgroup3 = []\n",
    "            evttrig = []\n",
    "            for j in range(len(waveforms[i])):\n",
    "                if (lcns[i][j]<31):\n",
    "                    ped = ak.mean(waveforms[i][j][500:900])\n",
    "                    wf = waveforms[i][j][10:-10]\n",
    "                    amp = ak.max(wf-ped)\n",
    "                    amps.append(amp)\n",
    "                    if amp>threshold:\n",
    "                        crossed = wf-ped > (0.6*(ak.max(wf)-ped)) \n",
    "                        above = ak.where(crossed)[0]\n",
    "                        # Need to add interpolation to get better time\n",
    "                        if len(above)>0:\n",
    "                            if (lcns[i][j]<8):\n",
    "                                evtgroup0.append(0.2*above[0])\n",
    "                            if (7<lcns[i][j]<16):\n",
    "                                evtgroup1.append(0.2*above[0])\n",
    "                            if (15<lcns[i][j]<24):\n",
    "                                evtgroup2.append(0.2*above[0])\n",
    "                            if (23<lcns[i][j]<31): # 31 is coincident pmt trigger\n",
    "                                evtgroup3.append(0.2*above[0])\n",
    "                elif (lcns[i][j]>31): # trigger pmts 32,48,64,80\n",
    "                    ped = ak.mean(waveforms[i][j][100:500])\n",
    "                    wf = waveforms[i][j][100:-100]\n",
    "                    amp = ak.max(wf-ped)\n",
    "                    if amp>threshold:\n",
    "                        crossed = wf-ped > (0.6*(ak.max(wf)-ped)) \n",
    "                        above = ak.where(crossed)[0]\n",
    "                        if len(above)>0:\n",
    "                            evttrig.append(0.2*above[0])\n",
    "\n",
    "            if len(evttrig)==4:\n",
    "                for t in evttrig:\n",
    "                    trigs.append(t)\n",
    "                for t in evtgroup0:\n",
    "                    tres.append(t-evttrig[0])\n",
    "                    raw.append(t)\n",
    "                for t in evtgroup1:\n",
    "                    tres.append(t-evttrig[1])\n",
    "                    raw.append(t)\n",
    "                for t in evtgroup2:\n",
    "                    tres.append(t-evttrig[2])\n",
    "                    raw.append(t)\n",
    "                for t in evtgroup3:\n",
    "                    tres.append(t-evttrig[3])\n",
    "                    raw.append(t)\n",
    "        all_tres.extend(tres)\n",
    "        all_raw.extend(raw)\n",
    "        all_trigs.extend(trigs)\n",
    "        all_amps.extend(amps)\n",
    "    return np.array(all_tres), np.array(all_amps), np.array(all_raw), np.array(all_trigs)"
   ]
  },
  {
   "cell_type": "code",
   "execution_count": 103,
   "id": "c801024a",
   "metadata": {},
   "outputs": [],
   "source": [
    "threshold = 55"
   ]
  },
  {
   "cell_type": "code",
   "execution_count": 104,
   "id": "c319f0da",
   "metadata": {},
   "outputs": [
    {
     "name": "stderr",
     "output_type": "stream",
     "text": [
      "100%|██████████| 6/6 [00:29<00:00,  4.93s/it]\n"
     ]
    }
   ],
   "source": [
    "water_data = get_time_residuals(glob.glob(\"processed/water/*.root\"),threshold)\n",
    "water_tres = water_data[0]\n",
    "water_hit_amplitudes = water_data[1]\n",
    "water_raw_hit_times = water_data[2]\n",
    "water_trigger_times = water_data[3]\n"
   ]
  },
  {
   "cell_type": "code",
   "execution_count": 105,
   "id": "1a788743",
   "metadata": {},
   "outputs": [
    {
     "name": "stderr",
     "output_type": "stream",
     "text": [
      "100%|██████████| 4/4 [00:19<00:00,  4.77s/it]\n"
     ]
    }
   ],
   "source": [
    "labppo_data = get_time_residuals(glob.glob(\"processed/labppo/*.root\"),threshold)\n",
    "labppo_tres = labppo_data[0]\n",
    "labppo_hit_amplitudes = labppo_data[1] \n",
    "labppo_raw_hit_times = labppo_data[2] \n",
    "labppo_trigger_times = labppo_data[3]"
   ]
  },
  {
   "cell_type": "code",
   "execution_count": 120,
   "id": "2e81ad64",
   "metadata": {},
   "outputs": [
    {
     "data": {
      "image/png": "[encoded data removed]",
      "text/plain": [
       "<Figure size 640x480 with 1 Axes>"
      ]
     },
     "metadata": {},
     "output_type": "display_data"
    }
   ],
   "source": [
    "plt.plot(figsize=(10,5))\n",
    "\n",
    "dt = 2\n",
    "bin_edges = np.arange(-50, -20 + dt, dt)  # 0.0, 0.2, ..., 100.0\n",
    "\n",
    "plt.hist(water_tres,bins=bin_edges,histtype='step',label='Water',density=False);\n",
    "plt.hist(labppo_tres,bins=bin_edges,histtype='step',label='LABPPO',density=False);\n",
    "plt.xlabel('Time [ns]')\n",
    "plt.ylabel(\"Counts\")\n",
    "plt.legend();"
   ]
  },
  {
   "cell_type": "code",
   "execution_count": 107,
   "id": "6bdb9a2e",
   "metadata": {},
   "outputs": [
    {
     "data": {
      "text/plain": [
       "<matplotlib.lines.Line2D at 0x7b6469079af0>"
      ]
     },
     "execution_count": 107,
     "metadata": {},
     "output_type": "execute_result"
    },
    {
     "data": {
      "image/png": "[encoded data removed]",
      "text/plain": [
       "<Figure size 640x480 with 1 Axes>"
      ]
     },
     "metadata": {},
     "output_type": "display_data"
    }
   ],
   "source": [
    "\n",
    "plt.hist(water_hit_amplitudes,bins=100,range=(0,200),histtype='step')\n",
    "plt.hist(labppo_hit_amplitudes,bins=100,range=(0,200),histtype='step')\n",
    "plt.yscale('log')\n",
    "plt.xlabel('Max waveform amplitude')\n",
    "plt.axvline(threshold,color='red',linestyle='--')"
   ]
  },
  {
   "cell_type": "code",
   "execution_count": 98,
   "id": "d6aade18",
   "metadata": {},
   "outputs": [
    {
     "name": "stdout",
     "output_type": "stream",
     "text": [
      "[[92.1, 205, 111, 112, 131, 130, ..., -inf, 68.2, 90.3, 90.5, 89.7, 89.9], ...]\n"
     ]
    }
   ],
   "source": [
    "print(event_info['times'])"
   ]
  },
  {
   "cell_type": "code",
   "execution_count": 6,
   "id": "fc311d9a",
   "metadata": {},
   "outputs": [],
   "source": [
    "# testing"
   ]
  }
 ],
 "metadata": {
  "kernelspec": {
   "display_name": "mypythonenv",
   "language": "python",
   "name": "python3"
  },
  "language_info": {
   "codemirror_mode": {
    "name": "ipython",
    "version": 3
   },
   "file_extension": ".py",
   "mimetype": "text/x-python",
   "name": "python",
   "nbconvert_exporter": "python",
   "pygments_lexer": "ipython3",
   "version": "3.9.19"
  }
 },
 "nbformat": 4,
 "nbformat_minor": 5
}
